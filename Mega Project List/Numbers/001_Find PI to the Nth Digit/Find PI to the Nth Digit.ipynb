{
 "cells": [
  {
   "cell_type": "markdown",
   "metadata": {},
   "source": [
    "### Enter a number and have the program generate PI up to that many decimal places. Keep a limit to how far the program will go."
   ]
  },
  {
   "cell_type": "code",
   "execution_count": 7,
   "metadata": {
    "collapsed": false
   },
   "outputs": [],
   "source": [
    "from decimal import *"
   ]
  },
  {
   "cell_type": "code",
   "execution_count": 24,
   "metadata": {
    "collapsed": false
   },
   "outputs": [],
   "source": [
    "def PI_generater():\n",
    "    \n",
    "    limit = int(input('Enter a limit: '))\n",
    "    \n",
    "    pi = 0\n",
    "    \n",
    "    for x in range(limit + 1):\n",
    "             \n",
    "        getcontext().prec = limit\n",
    "        a = Decimal(1 / (16 ** x))\n",
    "        b = Decimal(4 / (8 * x + 1))\n",
    "        c = Decimal(2 / (8 * x + 4))\n",
    "        d = Decimal(1 / (8 * x + 5))\n",
    "        e = Decimal(1 / (8 * x + 6))\n",
    "        \n",
    "        pi += Decimal(a * (b - c - d - e))\n",
    "    \n",
    "    return pi        "
   ]
  },
  {
   "cell_type": "code",
   "execution_count": 25,
   "metadata": {
    "collapsed": false
   },
   "outputs": [
    {
     "name": "stdout",
     "output_type": "stream",
     "text": [
      "Enter a limit: 10\n"
     ]
    },
    {
     "data": {
      "text/plain": [
       "Decimal('3.141592653')"
      ]
     },
     "execution_count": 25,
     "metadata": {},
     "output_type": "execute_result"
    }
   ],
   "source": [
    "PI_generater()"
   ]
  }
 ],
 "metadata": {
  "kernelspec": {
   "display_name": "Python 3",
   "language": "python",
   "name": "python3"
  },
  "language_info": {
   "codemirror_mode": {
    "name": "ipython",
    "version": 3
   },
   "file_extension": ".py",
   "mimetype": "text/x-python",
   "name": "python",
   "nbconvert_exporter": "python",
   "pygments_lexer": "ipython3",
   "version": "3.4.4"
  }
 },
 "nbformat": 4,
 "nbformat_minor": 0
}
