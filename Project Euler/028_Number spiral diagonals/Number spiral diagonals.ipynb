{
 "cells": [
  {
   "cell_type": "code",
   "execution_count": 1,
   "metadata": {
    "collapsed": true
   },
   "outputs": [],
   "source": [
    "def spiral(n):\n",
    "    dx, dy = 0, -1            # Starting increments\n",
    "    x, y = 0, n-1             # Starting location\n",
    "    spiral_grid = [[None] * n for j in range(n)]\n",
    "    \n",
    "    for i in range(n**2, 0, -1):\n",
    "        spiral_grid[x][y] = i\n",
    "        nx, ny = x + dx, y + dy\n",
    "        \n",
    "        if (0 <= nx < n) and (0 <= ny < n) and (spiral_grid[nx][ny] == None):\n",
    "            x, y = nx, ny\n",
    "        else:\n",
    "            dx, dy = -dy, dx\n",
    "            x, y = x + dx, y + dy\n",
    "            \n",
    "    return spiral_grid"
   ]
  },
  {
   "cell_type": "code",
   "execution_count": 2,
   "metadata": {
    "collapsed": true
   },
   "outputs": [],
   "source": [
    "def sum_diagonals(grid):\n",
    "    x1 = 0\n",
    "    y1 = 0\n",
    "    \n",
    "    x2 = 0\n",
    "    y2 = len(grid) - 1\n",
    "    \n",
    "    sum_left = 0\n",
    "    sum_right = 0\n",
    "    \n",
    "    for i in range(len(grid)):\n",
    "        sum_left += grid[x1][y1]\n",
    "        x1 += 1\n",
    "        y1 += 1\n",
    "    \n",
    "    for j in range(len(grid)):  \n",
    "        if (x2 == (len(grid) // 2)) and (y2 == (len(grid) // 2)):\n",
    "            x2 += 1   \n",
    "            y2 -= 1\n",
    "            next\n",
    "        else:\n",
    "            sum_right += grid[x2][y2]\n",
    "            x2 += 1   \n",
    "            y2 -= 1\n",
    "    \n",
    "    return sum_left + sum_right"
   ]
  },
  {
   "cell_type": "code",
   "execution_count": 3,
   "metadata": {
    "collapsed": false
   },
   "outputs": [
    {
     "data": {
      "text/plain": [
       "669171001"
      ]
     },
     "execution_count": 3,
     "metadata": {},
     "output_type": "execute_result"
    }
   ],
   "source": [
    "sum_diagonals(spiral(1001))"
   ]
  }
 ],
 "metadata": {
  "kernelspec": {
   "display_name": "Python 3",
   "language": "python",
   "name": "python3"
  },
  "language_info": {
   "codemirror_mode": {
    "name": "ipython",
    "version": 3
   },
   "file_extension": ".py",
   "mimetype": "text/x-python",
   "name": "python",
   "nbconvert_exporter": "python",
   "pygments_lexer": "ipython3",
   "version": "3.4.3"
  }
 },
 "nbformat": 4,
 "nbformat_minor": 0
}
