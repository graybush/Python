{
 "cells": [
  {
   "cell_type": "code",
   "execution_count": 41,
   "metadata": {
    "collapsed": true
   },
   "outputs": [],
   "source": [
    "from math import sqrt"
   ]
  },
  {
   "cell_type": "code",
   "execution_count": 106,
   "metadata": {
    "collapsed": true
   },
   "outputs": [],
   "source": [
    "def is_pentagonal(num):\n",
    "    n = ((sqrt(24 * num + 1) + 1) / 6)\n",
    "    \n",
    "    return ceil(n) == n"
   ]
  },
  {
   "cell_type": "code",
   "execution_count": 109,
   "metadata": {
    "collapsed": false
   },
   "outputs": [],
   "source": [
    "def pentagonal_gen():\n",
    "    i = 0\n",
    "    \n",
    "    while True:\n",
    "        i += 1\n",
    "        k = int(i * (3 * i - 1) / 2)\n",
    "        \n",
    "        for a in range(i - 1, 0, -1):\n",
    "            j = int(a* (3 * a - 1) / 2)\n",
    "            \n",
    "            if is_pentagonal(k - j) and is_pentagonal(j + k):\n",
    "                return k, j, k - j\n",
    "            \n",
    "    return none\n",
    "        "
   ]
  },
  {
   "cell_type": "code",
   "execution_count": 110,
   "metadata": {
    "collapsed": false
   },
   "outputs": [
    {
     "data": {
      "text/plain": [
       "(7042750, 1560090, 5482660)"
      ]
     },
     "execution_count": 110,
     "metadata": {},
     "output_type": "execute_result"
    }
   ],
   "source": [
    "pentagonal_gen()"
   ]
  }
 ],
 "metadata": {
  "kernelspec": {
   "display_name": "Python 3",
   "language": "python",
   "name": "python3"
  },
  "language_info": {
   "codemirror_mode": {
    "name": "ipython",
    "version": 3
   },
   "file_extension": ".py",
   "mimetype": "text/x-python",
   "name": "python",
   "nbconvert_exporter": "python",
   "pygments_lexer": "ipython3",
   "version": "3.4.3"
  }
 },
 "nbformat": 4,
 "nbformat_minor": 0
}
