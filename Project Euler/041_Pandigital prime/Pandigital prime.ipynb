{
 "cells": [
  {
   "cell_type": "code",
   "execution_count": 20,
   "metadata": {
    "collapsed": true
   },
   "outputs": [],
   "source": [
    "from math import sqrt"
   ]
  },
  {
   "cell_type": "code",
   "execution_count": 21,
   "metadata": {
    "collapsed": true
   },
   "outputs": [],
   "source": [
    "def is_pandigital(num):\n",
    "    tmp = set(map(int, str(num)))\n",
    "    pan = set(range(1, len(str(num)) + 1))\n",
    "    \n",
    "    if tmp == pan:\n",
    "        return True\n",
    "    else:\n",
    "        return False"
   ]
  },
  {
   "cell_type": "code",
   "execution_count": 22,
   "metadata": {
    "collapsed": true
   },
   "outputs": [],
   "source": [
    "def primes_below_n(n):\n",
    "    sqrt_n = int(sqrt(n))\n",
    "    \n",
    "    #Based on sieve of Eratosthenes\n",
    "    no_primes = set({j for i in range(2, sqrt_n+1) for j in range(i*2, n, i)})\n",
    "    \n",
    "    primes = set({i for i in range(2,n) if i not in no_primes})\n",
    "    \n",
    "    return sorted(primes)"
   ]
  },
  {
   "cell_type": "code",
   "execution_count": 23,
   "metadata": {
    "collapsed": true
   },
   "outputs": [],
   "source": [
    "from math import sqrt\n",
    "from itertools import count, islice\n",
    "\n",
    "def isPrime(n):\n",
    "    if n < 2: return False\n",
    "    for number in islice(count(2), int(sqrt(n)-1)):\n",
    "        if not n%number:\n",
    "            return False\n",
    "    return True"
   ]
  },
  {
   "cell_type": "code",
   "execution_count": 24,
   "metadata": {
    "collapsed": true
   },
   "outputs": [],
   "source": [
    "def pandigital_prime(limit):\n",
    "    primeList = primes_below_n(limit)\n",
    "    largest = 0\n",
    "    \n",
    "    for x in primeList:\n",
    "        if is_pandigital(x):\n",
    "            current = x\n",
    "            if current > largest:\n",
    "                largest = current\n",
    "    return largest"
   ]
  },
  {
   "cell_type": "code",
   "execution_count": 18,
   "metadata": {
    "collapsed": true
   },
   "outputs": [],
   "source": [
    "def pandigital_prime(limit):\n",
    "    largest = 0\n",
    "    \n",
    "    for x in range(limit):\n",
    "        if isPrime(x):\n",
    "            if is_pandigital(x):\n",
    "                current = x\n",
    "                if current > largest:\n",
    "                    largest = current\n",
    "    return largest\n",
    "        "
   ]
  },
  {
   "cell_type": "code",
   "execution_count": 25,
   "metadata": {
    "collapsed": false
   },
   "outputs": [
    {
     "data": {
      "text/plain": [
       "7652413"
      ]
     },
     "execution_count": 25,
     "metadata": {},
     "output_type": "execute_result"
    }
   ],
   "source": [
    "pandigital_prime(7654321)"
   ]
  }
 ],
 "metadata": {
  "kernelspec": {
   "display_name": "Python 3",
   "language": "python",
   "name": "python3"
  },
  "language_info": {
   "codemirror_mode": {
    "name": "ipython",
    "version": 3
   },
   "file_extension": ".py",
   "mimetype": "text/x-python",
   "name": "python",
   "nbconvert_exporter": "python",
   "pygments_lexer": "ipython3",
   "version": "3.4.3"
  }
 },
 "nbformat": 4,
 "nbformat_minor": 0
}
