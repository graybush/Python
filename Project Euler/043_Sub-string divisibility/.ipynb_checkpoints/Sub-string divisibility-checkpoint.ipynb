{
 "cells": [
  {
   "cell_type": "code",
   "execution_count": 13,
   "metadata": {
    "collapsed": false
   },
   "outputs": [],
   "source": [
    "from itertools import permutations\n",
    "from functools import reduce"
   ]
  },
  {
   "cell_type": "code",
   "execution_count": 14,
   "metadata": {
    "collapsed": true
   },
   "outputs": [],
   "source": [
    "def splice(num):\n",
    "    nums = []\n",
    "    \n",
    "    for i in range(1, len(str(num)) - 2):\n",
    "        nums.append(int(str(num)[i:i + 3]))\n",
    "        \n",
    "    return nums"
   ]
  },
  {
   "cell_type": "code",
   "execution_count": 15,
   "metadata": {
    "collapsed": true
   },
   "outputs": [],
   "source": [
    "def is_divisable(num):\n",
    "    primes = [2, 3, 5, 7, 11, 13, 17]\n",
    "    primeNum = 0\n",
    "    \n",
    "    for sub in num:\n",
    "        \n",
    "        if sub % primes[primeNum] == 0:\n",
    "            primeNum += 1\n",
    "            next\n",
    "        else:\n",
    "            return False\n",
    "    \n",
    "    return True"
   ]
  },
  {
   "cell_type": "code",
   "execution_count": 16,
   "metadata": {
    "collapsed": false
   },
   "outputs": [],
   "source": [
    "def sub_string_divs():\n",
    "    nums = []\n",
    "    digitList = []\n",
    "    panDigits = list(permutations(range(10)))\n",
    "    \n",
    "    \n",
    "    for digit in panDigits:\n",
    "        if digit[0] != 0:\n",
    "            d = reduce(lambda rst, d: rst * 10 + d, digit)\n",
    "            digitList.append(d)\n",
    "        \n",
    "    panDigits = digitList\n",
    "    \n",
    "    for digit in panDigits:\n",
    "        if is_divisable(splice(digit)):\n",
    "            nums.append(digit)\n",
    "    \n",
    "    return sum(nums)"
   ]
  },
  {
   "cell_type": "code",
   "execution_count": 10,
   "metadata": {
    "collapsed": false
   },
   "outputs": [
    {
     "name": "stdout",
     "output_type": "stream",
     "text": [
      "1 loops, best of 3: 53.3 s per loop\n"
     ]
    }
   ],
   "source": [
    "%timeit sub_string_divs()"
   ]
  }
 ],
 "metadata": {
  "kernelspec": {
   "display_name": "Python 3",
   "language": "python",
   "name": "python3"
  },
  "language_info": {
   "codemirror_mode": {
    "name": "ipython",
    "version": 3
   },
   "file_extension": ".py",
   "mimetype": "text/x-python",
   "name": "python",
   "nbconvert_exporter": "python",
   "pygments_lexer": "ipython3",
   "version": "3.4.3"
  }
 },
 "nbformat": 4,
 "nbformat_minor": 0
}
