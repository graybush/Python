{
 "cells": [
  {
   "cell_type": "code",
   "execution_count": 9,
   "metadata": {
    "collapsed": false
   },
   "outputs": [],
   "source": [
    "n = 28123\n",
    "\n",
    "def properDivisor(num, div):\n",
    "    if num % div == 0 and div != num:\n",
    "        return True\n",
    "    else:\n",
    "        return False\n",
    "\n",
    "def isAbundant(num):\n",
    "    total = 0\n",
    "    for x in range(1, num - 1):\n",
    "        if properDivisor(num, x) == True:\n",
    "            total += x\n",
    "    if total > num:\n",
    "        return True\n",
    "    else:\n",
    "        return False"
   ]
  },
  {
   "cell_type": "code",
   "execution_count": 10,
   "metadata": {
    "collapsed": false
   },
   "outputs": [],
   "source": [
    "abundantList = []\n",
    "for x in range(1, n):\n",
    "    if isAbundant(x) == True:\n",
    "        abundantList.append(x)\n",
    "    else:\n",
    "        next"
   ]
  },
  {
   "cell_type": "code",
   "execution_count": 7,
   "metadata": {
    "collapsed": false
   },
   "outputs": [],
   "source": [
    "sumOfAbundants = []\n",
    "for x in range(0, len(abundantList)):\n",
    "    for y in range(x, len(abundantList)):\n",
    "        total = abundantList[x] + abundantList[y]\n",
    "        if total > n:\n",
    "            break\n",
    "        else:\n",
    "            sumOfAbundants.append(total)"
   ]
  },
  {
   "cell_type": "code",
   "execution_count": 8,
   "metadata": {
    "collapsed": false
   },
   "outputs": [
    {
     "ename": "NameError",
     "evalue": "name 'abundantList' is not defined",
     "output_type": "error",
     "traceback": [
      "\u001b[1;31m---------------------------------------------------------------------------\u001b[0m",
      "\u001b[1;31mNameError\u001b[0m                                 Traceback (most recent call last)",
      "\u001b[1;32m<ipython-input-8-974c8402a5e8>\u001b[0m in \u001b[0;36m<module>\u001b[1;34m()\u001b[0m\n\u001b[1;32m----> 1\u001b[1;33m \u001b[0mprint\u001b[0m\u001b[1;33m(\u001b[0m\u001b[0mabundantList\u001b[0m\u001b[1;33m)\u001b[0m\u001b[1;33m\u001b[0m\u001b[0m\n\u001b[0m",
      "\u001b[1;31mNameError\u001b[0m: name 'abundantList' is not defined"
     ]
    }
   ],
   "source": [
    "nonAbundantSums = 0\n",
    "for x in range(1, n):\n",
    "    for y in range(abundantList[y], len(abundantList)):\n",
    "        if x > abundantList[y]:\n",
    "            \n",
    "    "
   ]
  },
  {
   "cell_type": "code",
   "execution_count": 25,
   "metadata": {
    "collapsed": false
   },
   "outputs": [
    {
     "name": "stdout",
     "output_type": "stream",
     "text": [
      "4179871\n"
     ]
    }
   ],
   "source": [
    "import math\n",
    "\n",
    "def findDivisors(n):\n",
    "    \"\"\"creates a list of a number's proper divisors\"\"\"\n",
    "    divisors=[1]\n",
    "    for x in range(2, math.ceil(n / 2) + 1):\n",
    "        if n % x == 0:\n",
    "            divisors.append(x)\n",
    "    return divisors\n",
    "\n",
    "abundantNums = [12]\n",
    "for x in range(13, 28123):\n",
    "    if sum(findDivisors(x)) > x:\n",
    "        abundantNums.append(x)\n",
    "        \n",
    "NonAbSums = [x for x in range(28124)]        \n",
    "\n",
    "for i in range(len(abundantNums)):\n",
    "    for j in range(i, len(abundantNums)):\n",
    "        currentSum = abundantNums[i] + abundantNums[j]\n",
    "        if currentSum > 28123:\n",
    "            break\n",
    "        else:\n",
    "            if currentSum in NonAbSums:\n",
    "                NonAbSums.remove(currentSum)\n",
    "                \n",
    "print(sum(NonAbSums))"
   ]
  }
 ],
 "metadata": {
  "kernelspec": {
   "display_name": "Python 3",
   "language": "python",
   "name": "python3"
  },
  "language_info": {
   "codemirror_mode": {
    "name": "ipython",
    "version": 3
   },
   "file_extension": ".py",
   "mimetype": "text/x-python",
   "name": "python",
   "nbconvert_exporter": "python",
   "pygments_lexer": "ipython3",
   "version": "3.4.3"
  }
 },
 "nbformat": 4,
 "nbformat_minor": 0
}
