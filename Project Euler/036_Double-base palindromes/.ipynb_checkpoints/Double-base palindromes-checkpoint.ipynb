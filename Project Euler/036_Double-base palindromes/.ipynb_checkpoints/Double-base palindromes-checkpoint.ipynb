{
 "cells": [
  {
   "cell_type": "code",
   "execution_count": 1,
   "metadata": {
    "collapsed": true
   },
   "outputs": [],
   "source": [
    "def palindrome(n):\n",
    "    return str(n) == str(n)[::-1]"
   ]
  },
  {
   "cell_type": "code",
   "execution_count": 4,
   "metadata": {
    "collapsed": true
   },
   "outputs": [],
   "source": [
    "def base_10_palindrome(limit):\n",
    "    count = set()\n",
    "    \n",
    "    for x in range(limit + 1):\n",
    "        if palindrome(x):\n",
    "            count.add(x)\n",
    "    \n",
    "    return count"
   ]
  },
  {
   "cell_type": "code",
   "execution_count": 16,
   "metadata": {
    "collapsed": true
   },
   "outputs": [],
   "source": [
    "def base_2_palindrome(limit):\n",
    "    count = set()\n",
    "    \n",
    "    for x in range(limit + 1):\n",
    "        num = bin(x)[2:]\n",
    "        if palindrome(num):\n",
    "            count.add(x)\n",
    "    \n",
    "    return count    "
   ]
  },
  {
   "cell_type": "code",
   "execution_count": 18,
   "metadata": {
    "collapsed": true
   },
   "outputs": [],
   "source": [
    "def double_base_palindromes(limit):\n",
    "    \n",
    "    base10pal = base_10_palindrome(limit)\n",
    "    base2pal = base_2_palindrome(limit)\n",
    "    \n",
    "    numSum = base10pal.intersection(base2pal)\n",
    "    \n",
    "    return sum(numSum)"
   ]
  },
  {
   "cell_type": "code",
   "execution_count": 19,
   "metadata": {
    "collapsed": false
   },
   "outputs": [
    {
     "data": {
      "text/plain": [
       "872187"
      ]
     },
     "execution_count": 19,
     "metadata": {},
     "output_type": "execute_result"
    }
   ],
   "source": [
    "double_base_palindromes(1000000)"
   ]
  }
 ],
 "metadata": {
  "kernelspec": {
   "display_name": "Python 3",
   "language": "python",
   "name": "python3"
  },
  "language_info": {
   "codemirror_mode": {
    "name": "ipython",
    "version": 3
   },
   "file_extension": ".py",
   "mimetype": "text/x-python",
   "name": "python",
   "nbconvert_exporter": "python",
   "pygments_lexer": "ipython3",
   "version": "3.4.3"
  }
 },
 "nbformat": 4,
 "nbformat_minor": 0
}
