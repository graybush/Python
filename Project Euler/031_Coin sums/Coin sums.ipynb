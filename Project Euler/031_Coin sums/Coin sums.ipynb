{
 "cells": [
  {
   "cell_type": "code",
   "execution_count": 1,
   "metadata": {
    "collapsed": true
   },
   "outputs": [],
   "source": [
    "def coin_sums(limit):\n",
    "\n",
    "    p1 = 1\n",
    "    p2 = 2\n",
    "    p5 = 5\n",
    "    p10 = 10\n",
    "    p20 = 20\n",
    "    p50 = 50\n",
    "    p100 = 100\n",
    "    p200 = 200\n",
    "\n",
    "    count = 0\n",
    "    \n",
    "    for a in range(0,2):\n",
    "        for b in range(0,3):\n",
    "            for c in range(0,5):\n",
    "                for d in range(0,11):\n",
    "                    for e in range(0,21):\n",
    "                        for f in range(0,41):\n",
    "                            for g in range(0,101):\n",
    "                                for h in range(0,201):\n",
    "                                    sum = a*p200 + b*p100 + c*p50 + d*p20 + e*p10 + f*p5 + g*p2 + h*p1\n",
    "                                    \n",
    "                                    if sum == limit:\n",
    "                                        count += 1\n",
    "                                    elif sum > limit:\n",
    "                                        break\n",
    "                                                                \n",
    "    return count"
   ]
  },
  {
   "cell_type": "code",
   "execution_count": 2,
   "metadata": {
    "collapsed": false
   },
   "outputs": [
    {
     "data": {
      "text/plain": [
       "73682"
      ]
     },
     "execution_count": 2,
     "metadata": {},
     "output_type": "execute_result"
    }
   ],
   "source": [
    "coin_sums(200)"
   ]
  }
 ],
 "metadata": {
  "kernelspec": {
   "display_name": "Python 3",
   "language": "python",
   "name": "python3"
  },
  "language_info": {
   "codemirror_mode": {
    "name": "ipython",
    "version": 3
   },
   "file_extension": ".py",
   "mimetype": "text/x-python",
   "name": "python",
   "nbconvert_exporter": "python",
   "pygments_lexer": "ipython3",
   "version": "3.4.3"
  }
 },
 "nbformat": 4,
 "nbformat_minor": 0
}
