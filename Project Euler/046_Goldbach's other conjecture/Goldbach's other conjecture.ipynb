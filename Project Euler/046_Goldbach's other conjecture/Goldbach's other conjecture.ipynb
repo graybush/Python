{
 "cells": [
  {
   "cell_type": "code",
   "execution_count": 1,
   "metadata": {
    "collapsed": true
   },
   "outputs": [],
   "source": [
    "from math import sqrt"
   ]
  },
  {
   "cell_type": "code",
   "execution_count": 2,
   "metadata": {
    "collapsed": true
   },
   "outputs": [],
   "source": [
    "def primes_below_n(n):\n",
    "    sqrt_n = int(sqrt(n))\n",
    "    \n",
    "    #Based on sieve of Eratosthenes\n",
    "    no_primes = set({j for i in range(2, sqrt_n+1) for j in range(i*2, n, i)})\n",
    "    \n",
    "    primes = set({i for i in range(2,n) if i not in no_primes})\n",
    "    \n",
    "    return sorted(primes)"
   ]
  },
  {
   "cell_type": "code",
   "execution_count": 8,
   "metadata": {
    "collapsed": true
   },
   "outputs": [],
   "source": [
    "def is_prime(n):\n",
    "    if n % 2 == 0 and n > 2:\n",
    "        return False\n",
    "    return True"
   ]
  },
  {
   "cell_type": "code",
   "execution_count": 14,
   "metadata": {
    "collapsed": true
   },
   "outputs": [],
   "source": [
    "def is_even(n):\n",
    "    if n % 2 == 0:\n",
    "        return True\n",
    "    return False"
   ]
  },
  {
   "cell_type": "code",
   "execution_count": 1,
   "metadata": {
    "collapsed": false
   },
   "outputs": [
    {
     "name": "stdout",
     "output_type": "stream",
     "text": [
      "5777\n"
     ]
    }
   ],
   "source": [
    "#!/usr/bin/env python\n",
    "from itertools import product\n",
    "\n",
    "def sieve(n):\n",
    "    numbers = list(range(2, n+1))\n",
    "    p = 2\n",
    "    j = 0\n",
    "    done = False\n",
    "    while not done:\n",
    "        for i, n in enumerate(numbers):\n",
    "            if n % p == 0 and n!=p:\n",
    "                numbers.pop(i)\n",
    "        j += 1\n",
    "        p = numbers[j]\n",
    "        if p**2 > n:\n",
    "            done = True\n",
    "    return numbers\n",
    "\n",
    "def main():\n",
    "    primes = sieve(10000)\n",
    "    composites = set(n for n in range(2,10000) if n not in primes)\n",
    "    twicesquares = set(2*(n**2) for n in range(100))\n",
    "\n",
    "    sums = set(sum(c) for c in product(primes, twicesquares))\n",
    "    print(min(n for n in composites if n not in sums and n % 2 != 0))\n",
    "\n",
    "if __name__ == \"__main__\":\n",
    "    main()"
   ]
  }
 ],
 "metadata": {
  "kernelspec": {
   "display_name": "Python 3",
   "language": "python",
   "name": "python3"
  },
  "language_info": {
   "codemirror_mode": {
    "name": "ipython",
    "version": 3
   },
   "file_extension": ".py",
   "mimetype": "text/x-python",
   "name": "python",
   "nbconvert_exporter": "python",
   "pygments_lexer": "ipython3",
   "version": "3.4.4"
  }
 },
 "nbformat": 4,
 "nbformat_minor": 0
}
