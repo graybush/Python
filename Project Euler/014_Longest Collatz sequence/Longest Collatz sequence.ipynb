{
 "cells": [
  {
   "cell_type": "code",
   "execution_count": 1,
   "metadata": {
    "collapsed": true
   },
   "outputs": [],
   "source": [
    "__author__ = 'zbb0263'\n",
    "\n",
    "import timeit\n",
    "def f4():\n",
    "    return [k for k,v in stack.items() if v==max(stack.values())][0]\n",
    "\n",
    "def collatz(limit):\n",
    "    # nEven = n/2\n",
    "    # nOdd = 3n + 1\n",
    "    stack = {}\n",
    "    for i in range(1, limit):\n",
    "        count = 1\n",
    "        n = i\n",
    "        while n > 1:\n",
    "            if n % 2 == 0:\n",
    "                n = n /2\n",
    "                count += 1\n",
    "            else:\n",
    "                n = 3 * n + 1\n",
    "                count +=1\n",
    "        stack.update({i:count})\n",
    "\n",
    "    print(max(stack.keys(), key=lambda k: stack[k]))\n",
    "    # return(stack)"
   ]
  },
  {
   "cell_type": "code",
   "execution_count": 2,
   "metadata": {
    "collapsed": false
   },
   "outputs": [
    {
     "name": "stdout",
     "output_type": "stream",
     "text": [
      "837799\n",
      "837799\n",
      "837799\n",
      "837799\n",
      "1 loops, best of 3: 1min 29s per loop\n"
     ]
    }
   ],
   "source": [
    "import time\n",
    "% timeit[collatz(1000000)]"
   ]
  }
 ],
 "metadata": {
  "kernelspec": {
   "display_name": "Python 3",
   "language": "python",
   "name": "python3"
  },
  "language_info": {
   "codemirror_mode": {
    "name": "ipython",
    "version": 3
   },
   "file_extension": ".py",
   "mimetype": "text/x-python",
   "name": "python",
   "nbconvert_exporter": "python",
   "pygments_lexer": "ipython3",
   "version": "3.4.3"
  }
 },
 "nbformat": 4,
 "nbformat_minor": 0
}
