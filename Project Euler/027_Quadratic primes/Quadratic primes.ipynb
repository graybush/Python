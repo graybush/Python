{
 "cells": [
  {
   "cell_type": "code",
   "execution_count": 9,
   "metadata": {
    "collapsed": true
   },
   "outputs": [],
   "source": [
    "def quadPrimes(lower, upper):\n",
    "    combo = []\n",
    "    for i in range(lower, upper):\n",
    "        for j in range(lower, upper):\n",
    "            n = 0\n",
    "            count = 0\n",
    "            while primeChecker(n ** 2 + i * n + j):\n",
    "                n += 1\n",
    "                count += 1\n",
    "                combo.append([lower, upper, count])\n",
    "    return combo                "
   ]
  },
  {
   "cell_type": "code",
   "execution_count": 11,
   "metadata": {
    "collapsed": true
   },
   "outputs": [],
   "source": [
    "def quadratic_primes(lower,upper):\n",
    "    consec_primes = []\n",
    "    \n",
    "    for a in range(lower,upper,1):\n",
    "        for b in range(lower,upper,1):\n",
    "            values = []\n",
    "            n = 0\n",
    "            \n",
    "            while True:\n",
    "                x = n**2 + a*n + b\n",
    "                \n",
    "                if is_prime(x):\n",
    "                    values.append(x)\n",
    "                    n += 1\n",
    "                else:\n",
    "                    consec_primes.append([a, b, n])\n",
    "                    break\n",
    "            \n",
    "    return consec_primes"
   ]
  },
  {
   "cell_type": "code",
   "execution_count": 12,
   "metadata": {
    "collapsed": true
   },
   "outputs": [],
   "source": [
    "def is_prime(n):\n",
    "    if n > 1:\n",
    "        for i in range(2,n):\n",
    "            if (n % i) == 0:\n",
    "                return False\n",
    "        else:\n",
    "            return True\n",
    "    else:\n",
    "        return False"
   ]
  },
  {
   "cell_type": "code",
   "execution_count": 13,
   "metadata": {
    "collapsed": false
   },
   "outputs": [
    {
     "name": "stdout",
     "output_type": "stream",
     "text": [
      "[-61, 971, 71]\n",
      "-59231\n"
     ]
    }
   ],
   "source": [
    "quads = quadratic_primes(-999,1000)\n",
    "n = 0\n",
    "\n",
    "for i in range(0,len(quads)):\n",
    "    if quads[i][2] > n:\n",
    "        n = quads[i][2]\n",
    "        a = i\n",
    "        \n",
    "print(quads[a])\n",
    "\n",
    "product = quads[a][0] * quads[a][1]\n",
    "print(product)"
   ]
  }
 ],
 "metadata": {
  "kernelspec": {
   "display_name": "Python 3",
   "language": "python",
   "name": "python3"
  },
  "language_info": {
   "codemirror_mode": {
    "name": "ipython",
    "version": 3
   },
   "file_extension": ".py",
   "mimetype": "text/x-python",
   "name": "python",
   "nbconvert_exporter": "python",
   "pygments_lexer": "ipython3",
   "version": "3.4.3"
  }
 },
 "nbformat": 4,
 "nbformat_minor": 0
}
