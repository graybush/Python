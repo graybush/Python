{
 "cells": [
  {
   "cell_type": "code",
   "execution_count": 2,
   "metadata": {
    "collapsed": false
   },
   "outputs": [],
   "source": [
    "from math import sqrt"
   ]
  },
  {
   "cell_type": "code",
   "execution_count": 3,
   "metadata": {
    "collapsed": true
   },
   "outputs": [],
   "source": [
    "def primes_below_n(n):\n",
    "    sqrt_n = int(sqrt(n))\n",
    "    \n",
    "    #Based on sieve of Eratosthenes\n",
    "    no_primes = {j for i in range(2, sqrt_n+1) for j in range(i*2, n, i)}\n",
    "    \n",
    "    primes = {i for i in range(2,n) if i not in no_primes}\n",
    "    \n",
    "    return primes"
   ]
  },
  {
   "cell_type": "code",
   "execution_count": 4,
   "metadata": {
    "collapsed": false
   },
   "outputs": [],
   "source": [
    "def cyclic_number(p):\n",
    "    b = 10\n",
    "    t = 0\n",
    "    r = 1\n",
    "    n = 0\n",
    "    \n",
    "    while True:\n",
    "        t += 1\n",
    "        x = r * b\n",
    "        d = x / p\n",
    "        r = x % p\n",
    "        n = n*b + d\n",
    "        \n",
    "        if r == 1:\n",
    "            break\n",
    "            \n",
    "    if t == p - 1:\n",
    "        return True\n",
    "    else:\n",
    "        return False"
   ]
  },
  {
   "cell_type": "code",
   "execution_count": 5,
   "metadata": {
    "collapsed": true
   },
   "outputs": [],
   "source": [
    "def recip_cycles(limit):\n",
    "    primes = primes_below_n(limit)\n",
    "    primes.remove(2)\n",
    "    primes.remove(5)\n",
    "    \n",
    "    period = {} \n",
    "    \n",
    "    for n in primes:\n",
    "        if cyclic_number(n):\n",
    "            period[n] = n - 1\n",
    "        else:\n",
    "            pass\n",
    "    \n",
    "    return period"
   ]
  },
  {
   "cell_type": "code",
   "execution_count": 6,
   "metadata": {
    "collapsed": false
   },
   "outputs": [
    {
     "data": {
      "text/plain": [
       "{7: 6,\n",
       " 17: 16,\n",
       " 19: 18,\n",
       " 23: 22,\n",
       " 29: 28,\n",
       " 47: 46,\n",
       " 59: 58,\n",
       " 61: 60,\n",
       " 97: 96,\n",
       " 109: 108,\n",
       " 113: 112,\n",
       " 131: 130,\n",
       " 149: 148,\n",
       " 167: 166,\n",
       " 179: 178,\n",
       " 181: 180,\n",
       " 193: 192,\n",
       " 223: 222,\n",
       " 229: 228,\n",
       " 233: 232,\n",
       " 257: 256,\n",
       " 263: 262,\n",
       " 269: 268,\n",
       " 313: 312,\n",
       " 337: 336,\n",
       " 367: 366,\n",
       " 379: 378,\n",
       " 383: 382,\n",
       " 389: 388,\n",
       " 419: 418,\n",
       " 433: 432,\n",
       " 461: 460,\n",
       " 487: 486,\n",
       " 491: 490,\n",
       " 499: 498,\n",
       " 503: 502,\n",
       " 509: 508,\n",
       " 541: 540,\n",
       " 571: 570,\n",
       " 577: 576,\n",
       " 593: 592,\n",
       " 619: 618,\n",
       " 647: 646,\n",
       " 659: 658,\n",
       " 701: 700,\n",
       " 709: 708,\n",
       " 727: 726,\n",
       " 743: 742,\n",
       " 811: 810,\n",
       " 821: 820,\n",
       " 823: 822,\n",
       " 857: 856,\n",
       " 863: 862,\n",
       " 887: 886,\n",
       " 937: 936,\n",
       " 941: 940,\n",
       " 953: 952,\n",
       " 971: 970,\n",
       " 977: 976,\n",
       " 983: 982}"
      ]
     },
     "execution_count": 6,
     "metadata": {},
     "output_type": "execute_result"
    }
   ],
   "source": [
    "recip_cycles(1000)"
   ]
  }
 ],
 "metadata": {
  "kernelspec": {
   "display_name": "Python 3",
   "language": "python",
   "name": "python3"
  },
  "language_info": {
   "codemirror_mode": {
    "name": "ipython",
    "version": 3
   },
   "file_extension": ".py",
   "mimetype": "text/x-python",
   "name": "python",
   "nbconvert_exporter": "python",
   "pygments_lexer": "ipython3",
   "version": "3.4.3"
  }
 },
 "nbformat": 4,
 "nbformat_minor": 0
}
