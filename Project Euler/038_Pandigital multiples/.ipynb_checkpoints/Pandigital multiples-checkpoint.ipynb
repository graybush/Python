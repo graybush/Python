{
 "cells": [
  {
   "cell_type": "code",
   "execution_count": 3,
   "metadata": {
    "collapsed": true
   },
   "outputs": [],
   "source": [
    "def is_pandigital(num):\n",
    "    tmp = set(map(int, str(num)))\n",
    "    pan = set(range(1, len(str(num)) + 1))\n",
    "    \n",
    "    if tmp == pan:\n",
    "        return True\n",
    "    else:\n",
    "        return False"
   ]
  },
  {
   "cell_type": "code",
   "execution_count": 6,
   "metadata": {
    "collapsed": false
   },
   "outputs": [],
   "source": [
    "def concatenating_number(num, n):\n",
    "    \n",
    "    concat = ''\n",
    "    \n",
    "    for x in range(1, n + 1):\n",
    "        concat += str(num * x)\n",
    "        \n",
    "    return concat"
   ]
  },
  {
   "cell_type": "code",
   "execution_count": 9,
   "metadata": {
    "collapsed": true
   },
   "outputs": [],
   "source": [
    "def pandigital_multiples():\n",
    "    \n",
    "    for x in range(9398, 9234, -1):\n",
    "        concat = concatenating_number(x, 2)\n",
    "        if is_pandigital(concat):\n",
    "            break\n",
    "    return concat"
   ]
  },
  {
   "cell_type": "code",
   "execution_count": 10,
   "metadata": {
    "collapsed": false
   },
   "outputs": [
    {
     "data": {
      "text/plain": [
       "'932718654'"
      ]
     },
     "execution_count": 10,
     "metadata": {},
     "output_type": "execute_result"
    }
   ],
   "source": [
    "pandigital_multiples()"
   ]
  }
 ],
 "metadata": {
  "kernelspec": {
   "display_name": "Python 3",
   "language": "python",
   "name": "python3"
  },
  "language_info": {
   "codemirror_mode": {
    "name": "ipython",
    "version": 3
   },
   "file_extension": ".py",
   "mimetype": "text/x-python",
   "name": "python",
   "nbconvert_exporter": "python",
   "pygments_lexer": "ipython3",
   "version": "3.4.3"
  }
 },
 "nbformat": 4,
 "nbformat_minor": 0
}
