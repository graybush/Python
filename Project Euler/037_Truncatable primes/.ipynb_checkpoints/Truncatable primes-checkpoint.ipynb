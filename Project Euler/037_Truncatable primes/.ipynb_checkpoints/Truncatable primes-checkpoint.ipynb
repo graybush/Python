{
 "cells": [
  {
   "cell_type": "code",
   "execution_count": 36,
   "metadata": {
    "collapsed": true
   },
   "outputs": [],
   "source": [
    "from math import sqrt"
   ]
  },
  {
   "cell_type": "code",
   "execution_count": 37,
   "metadata": {
    "collapsed": true
   },
   "outputs": [],
   "source": [
    "def primes_below_n(n):\n",
    "    sqrt_n = int(sqrt(n))\n",
    "    \n",
    "    #Based on sieve of Eratosthenes\n",
    "    no_primes = set({j for i in range(2, sqrt_n+1) for j in range(i*2, n, i)})\n",
    "    \n",
    "    primes = set({i for i in range(2,n) if i not in no_primes})\n",
    "    \n",
    "    return sorted(primes)"
   ]
  },
  {
   "cell_type": "code",
   "execution_count": 38,
   "metadata": {
    "collapsed": true
   },
   "outputs": [],
   "source": [
    "def rotate_right(num):\n",
    "    \n",
    "    numList = set([num])\n",
    "    \n",
    "    for x in range(len(str(num)) - 1):\n",
    "        \n",
    "        num = str(num)[1:]\n",
    "        numList.add(int(num))\n",
    "       \n",
    "    return numList"
   ]
  },
  {
   "cell_type": "code",
   "execution_count": 39,
   "metadata": {
    "collapsed": true
   },
   "outputs": [],
   "source": [
    "def rotate_left(num):\n",
    "    \n",
    "    numList = set([num])\n",
    "    \n",
    "    for x in range(len(str(num)) - 1):\n",
    "        \n",
    "        num = str(num)[:-1]\n",
    "        numList.add(int(num))\n",
    "       \n",
    "    return numList"
   ]
  },
  {
   "cell_type": "code",
   "execution_count": 33,
   "metadata": {
    "collapsed": false
   },
   "outputs": [
    {
     "data": {
      "text/plain": [
       "{3, 37, 379, 3797}"
      ]
     },
     "execution_count": 33,
     "metadata": {},
     "output_type": "execute_result"
    }
   ],
   "source": [
    "rotate_left(3797)"
   ]
  },
  {
   "cell_type": "code",
   "execution_count": 28,
   "metadata": {
    "collapsed": false
   },
   "outputs": [
    {
     "name": "stdout",
     "output_type": "stream",
     "text": [
      "797\n",
      "97\n",
      "7\n"
     ]
    },
    {
     "data": {
      "text/plain": [
       "{7, 97, 797, 3797}"
      ]
     },
     "execution_count": 28,
     "metadata": {},
     "output_type": "execute_result"
    }
   ],
   "source": [
    "rotate_right(3797)"
   ]
  },
  {
   "cell_type": "code",
   "execution_count": null,
   "metadata": {
    "collapsed": true
   },
   "outputs": [],
   "source": [
    "def truncatable_primes(limit):\n",
    "    \n",
    "    truncPrimes = set()\n",
    "    primeNums = primes_below_n(limit)\n",
    "    \n",
    "    for x in primeNums:\n",
    "        \n",
    "        left = rotate_left(x)\n",
    "        right = rotate_right(x)\n",
    "        \n",
    "        if left.issubset(primeNums) and right.issubset(primeNums):\n",
    "            truncPrimes.add(x)\n",
    "            \n",
    "    return sum(filter(lambda a: a > 10, truncPrimes))    \n",
    "                "
   ]
  },
  {
   "cell_type": "code",
   "execution_count": null,
   "metadata": {
    "collapsed": false
   },
   "outputs": [],
   "source": [
    "truncatable_primes(1000)"
   ]
  },
  {
   "cell_type": "code",
   "execution_count": null,
   "metadata": {
    "collapsed": true
   },
   "outputs": [],
   "source": []
  }
 ],
 "metadata": {
  "kernelspec": {
   "display_name": "Python 3",
   "language": "python",
   "name": "python3"
  },
  "language_info": {
   "codemirror_mode": {
    "name": "ipython",
    "version": 3
   },
   "file_extension": ".py",
   "mimetype": "text/x-python",
   "name": "python",
   "nbconvert_exporter": "python",
   "pygments_lexer": "ipython3",
   "version": "3.4.3"
  }
 },
 "nbformat": 4,
 "nbformat_minor": 0
}
