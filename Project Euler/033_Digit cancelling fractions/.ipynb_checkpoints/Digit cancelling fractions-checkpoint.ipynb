{
 "cells": [
  {
   "cell_type": "code",
   "execution_count": 74,
   "metadata": {
    "collapsed": false
   },
   "outputs": [],
   "source": [
    "from fractions import Fraction"
   ]
  },
  {
   "cell_type": "code",
   "execution_count": 76,
   "metadata": {
    "collapsed": false
   },
   "outputs": [],
   "source": [
    "def digit_cancelling_fractions():\n",
    "    curiousFraction = []\n",
    "    reducedFraction = []\n",
    "    product = 1\n",
    "    \n",
    "    for x in range(11, 100):\n",
    "        for y in range(11, 100):\n",
    "            \n",
    "            if x / y >= 1:\n",
    "                next\n",
    "            \n",
    "            else:\n",
    "                numer = list(map(int, str(x)))\n",
    "                denom = list(map(int, str(y)))\n",
    "\n",
    "                if (denom[1] != 0) and (numer[1] == denom[0]):\n",
    "                    \n",
    "                    cancelled = numer[0] / denom[1]\n",
    "                    num = x / y\n",
    "\n",
    "                    if cancelled == num:\n",
    "                        curiousFraction.append([x, y])\n",
    "                        reducedFraction.append(Fraction(x,y))\n",
    "    \n",
    "    for x in reducedFraction:\n",
    "        \n",
    "        product *= x\n",
    "    \n",
    "\n",
    "    return Fraction(product).denominator   \n",
    "    \n",
    "    "
   ]
  },
  {
   "cell_type": "code",
   "execution_count": 77,
   "metadata": {
    "collapsed": false
   },
   "outputs": [
    {
     "name": "stdout",
     "output_type": "stream",
     "text": [
      "100\n"
     ]
    }
   ],
   "source": [
    "print(digit_cancelling_fractions())"
   ]
  },
  {
   "cell_type": "code",
   "execution_count": 78,
   "metadata": {
    "collapsed": false
   },
   "outputs": [
    {
     "data": {
      "text/plain": [
       "Fraction(1, 2)"
      ]
     },
     "execution_count": 78,
     "metadata": {},
     "output_type": "execute_result"
    }
   ],
   "source": [
    "Fraction(49,98)"
   ]
  },
  {
   "cell_type": "code",
   "execution_count": null,
   "metadata": {
    "collapsed": true
   },
   "outputs": [],
   "source": []
  }
 ],
 "metadata": {
  "kernelspec": {
   "display_name": "Python 3",
   "language": "python",
   "name": "python3"
  },
  "language_info": {
   "codemirror_mode": {
    "name": "ipython",
    "version": 3
   },
   "file_extension": ".py",
   "mimetype": "text/x-python",
   "name": "python",
   "nbconvert_exporter": "python",
   "pygments_lexer": "ipython3",
   "version": "3.4.3"
  }
 },
 "nbformat": 4,
 "nbformat_minor": 0
}
