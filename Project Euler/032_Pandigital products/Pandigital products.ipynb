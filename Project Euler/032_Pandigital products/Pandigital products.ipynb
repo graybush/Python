{
 "cells": [
  {
   "cell_type": "code",
   "execution_count": 56,
   "metadata": {
    "collapsed": true
   },
   "outputs": [],
   "source": [
    "def isPandigital(num):\n",
    "    tmp = set(map(int, str(num)))\n",
    "    pan = set(range(1, len(str(num)) + 1))\n",
    "    \n",
    "    if tmp == pan:\n",
    "        return True\n",
    "    else:\n",
    "        return False"
   ]
  },
  {
   "cell_type": "code",
   "execution_count": 58,
   "metadata": {
    "collapsed": false
   },
   "outputs": [
    {
     "data": {
      "text/plain": [
       "True"
      ]
     },
     "execution_count": 58,
     "metadata": {},
     "output_type": "execute_result"
    }
   ],
   "source": [
    "isPandigital(12456873)"
   ]
  },
  {
   "cell_type": "code",
   "execution_count": 97,
   "metadata": {
    "collapsed": true
   },
   "outputs": [],
   "source": [
    "def pandigitalProducts():\n",
    "    result = set()\n",
    "    product = 0\n",
    "    products = {}\n",
    "    sum_set = set()\n",
    "    \n",
    "    for i in range(1, 100):\n",
    "        if i > 9:\n",
    "            n = 123\n",
    "        else:\n",
    "            n = 1234\n",
    "            \n",
    "        for j in range(n, int(10000 / i + 1)):\n",
    "            product = i * j\n",
    "            value = str(i) + str(j) + str(product)\n",
    "            products[value] = product\n",
    "            \n",
    "            if isPandigital(value):\n",
    "                result.add(value)\n",
    "    for k in result:\n",
    "        sum_set.add(products[k])\n",
    "    return sum(sum_set)"
   ]
  },
  {
   "cell_type": "code",
   "execution_count": 98,
   "metadata": {
    "collapsed": false
   },
   "outputs": [
    {
     "data": {
      "text/plain": [
       "45228"
      ]
     },
     "execution_count": 98,
     "metadata": {},
     "output_type": "execute_result"
    }
   ],
   "source": [
    "pandigitalProducts()"
   ]
  }
 ],
 "metadata": {
  "kernelspec": {
   "display_name": "Python 3",
   "language": "python",
   "name": "python3"
  },
  "language_info": {
   "codemirror_mode": {
    "name": "ipython",
    "version": 3
   },
   "file_extension": ".py",
   "mimetype": "text/x-python",
   "name": "python",
   "nbconvert_exporter": "python",
   "pygments_lexer": "ipython3",
   "version": "3.4.3"
  }
 },
 "nbformat": 4,
 "nbformat_minor": 0
}
