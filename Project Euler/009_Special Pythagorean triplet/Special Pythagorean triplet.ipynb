{
 "cells": [
  {
   "cell_type": "markdown",
   "metadata": {},
   "source": [
    "###A Pythagorean triplet is a set of three natural numbers, a < b < c, for which,\n",
    "\n",
    "###a^2 + b^2 = c^2\n",
    "###For example, 3^2 + 4^2 = 9 + 16 = 25 = 5^2.\n",
    "\n",
    "###There exists exactly one Pythagorean triplet for which a + b + c = 1000.\n",
    "###Find the product abc."
   ]
  },
  {
   "cell_type": "code",
   "execution_count": 15,
   "metadata": {
    "collapsed": true
   },
   "outputs": [],
   "source": [
    "def pythagoreanTriple(n):\n",
    "    n =  int(n)\n",
    "    if n > 0:\n",
    "        for a in range(1, n - 1):\n",
    "            for b in range(a + 1, n):\n",
    "                for c in range(b + 1, n + 1):\n",
    "                    if a * a + b * b == c * c:\n",
    "                        if a + b + c == 1000:\n",
    "                            prod = a * b * c\n",
    "                            return(a , b, c, prod)"
   ]
  },
  {
   "cell_type": "code",
   "execution_count": 16,
   "metadata": {
    "collapsed": false
   },
   "outputs": [
    {
     "data": {
      "text/plain": [
       "(200, 375, 425, 31875000)"
      ]
     },
     "execution_count": 16,
     "metadata": {},
     "output_type": "execute_result"
    }
   ],
   "source": [
    "pythagoreanTriple(1000)"
   ]
  },
  {
   "cell_type": "code",
   "execution_count": 17,
   "metadata": {
    "collapsed": false
   },
   "outputs": [
    {
     "name": "stdout",
     "output_type": "stream",
     "text": [
      "1 loops, best of 3: 22.1 s per loop\n"
     ]
    }
   ],
   "source": [
    "import time\n",
    "% timeit[pythagoreanTriple(1000)]"
   ]
  }
 ],
 "metadata": {
  "kernelspec": {
   "display_name": "Python 3",
   "language": "python",
   "name": "python3"
  },
  "language_info": {
   "codemirror_mode": {
    "name": "ipython",
    "version": 3
   },
   "file_extension": ".py",
   "mimetype": "text/x-python",
   "name": "python",
   "nbconvert_exporter": "python",
   "pygments_lexer": "ipython3",
   "version": "3.4.3"
  }
 },
 "nbformat": 4,
 "nbformat_minor": 0
}
